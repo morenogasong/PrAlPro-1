{
  "nbformat": 4,
  "nbformat_minor": 0,
  "metadata": {
    "colab": {
      "provenance": []
    },
    "kernelspec": {
      "name": "python3",
      "display_name": "Python 3"
    },
    "language_info": {
      "name": "python"
    }
  },
  "cells": [
    {
      "cell_type": "code",
      "source": [],
      "metadata": {
        "id": "F2ogo-EvkOtj"
      },
      "execution_count": null,
      "outputs": []
    },
    {
      "cell_type": "markdown",
      "source": [
        "**NOMOR 1**\n",
        "\n",
        "Latihan 2.1 Buatlah program yang dapat menghitung berat badan yang diperlukan, jika diketahui tinggi badan dan nilai Body Mass Index (BMI) yang diharapkan! Body Mass Index dihitung dengan cara: BMI = berat/ tinggi^2 . Perhatikan, berat badan dalam satuan kilogram (kg) dan tinggi badan dalam satuan meter (m)."
      ],
      "metadata": {
        "id": "YYfwywFTkCK7"
      }
    },
    {
      "cell_type": "code",
      "source": [
        "#Menghitung berat badan berdasarkan tinggi badan dan Nilai BMI\n",
        "import math\n",
        "\n",
        "#rumus berat\n",
        "def kalkulator_berat_ideal(tinggi_badan, nilai_bmi):\n",
        "    berat_ideal = nilai_bmi * tinggi_badan ** 2\n",
        "    return berat_ideal\n",
        "\n",
        "#input data dari user\n",
        "tinggi_badan = float(input(\"Masukkan tinggi badan Anda dalam meter: \"))\n",
        "nilai_bmi = float(input(\"Masukkan BMI yang diharapkan: \"))\n",
        "\n",
        "#hasil dari tampilan data\n",
        "berat_ideal = kalkulator_berat_ideal(tinggi_badan, nilai_bmi)\n",
        "print(\"Berat badan yang diperlukan Anda adalah: {:.2f} kg\".format(berat_ideal))"
      ],
      "metadata": {
        "colab": {
          "base_uri": "https://localhost:8080/"
        },
        "id": "6yud193-kFfp",
        "outputId": "b72e1fcc-d8f1-49ba-ea04-f0b562804851"
      },
      "execution_count": 1,
      "outputs": [
        {
          "output_type": "stream",
          "name": "stdout",
          "text": [
            "Masukkan tinggi badan Anda dalam meter: 1.6\n",
            "Masukkan BMI yang diharapkan: 25\n",
            "Berat badan yang diperlukan Anda adalah: 64.00 kg\n"
          ]
        }
      ]
    },
    {
      "cell_type": "markdown",
      "source": [
        "**NOMOR 2**\n",
        "\n",
        "Buatlah program yang dapat menghitung hasil dari fungsi f(x) = 2x^3 + 2x + 15/x, di mana x merupakan bilangan bulat yang dimasukkan oleh pengguna"
      ],
      "metadata": {
        "id": "OakYOieWkGrd"
      }
    },
    {
      "cell_type": "code",
      "source": [
        "# Program menghitung nilai dari suatu fungsi\n",
        "\n",
        "# rumus fungsi\n",
        "def kalkulator_f(x):\n",
        "    fungsi_x = 2 * x ** 3 + 2 * x + 15 / x\n",
        "    return fungsi_x\n",
        "\n",
        "# hasil dan tampilan dari hasil\n",
        "x = int(input(\"Masukkan bilangan bulat x: \"))\n",
        "f_value = kalkulator_f(x)\n",
        "print(\"Nilai f(x) adalah: {:.2f}\".format(f_value))"
      ],
      "metadata": {
        "colab": {
          "base_uri": "https://localhost:8080/"
        },
        "id": "iDfDuC4WkMGX",
        "outputId": "0c6bf4ed-c135-470b-ee04-6c75664b076d"
      },
      "execution_count": 2,
      "outputs": [
        {
          "output_type": "stream",
          "name": "stdout",
          "text": [
            "Masukkan bilangan bulat x: 3\n",
            "Nilai f(x) adalah: 65.00\n"
          ]
        }
      ]
    },
    {
      "cell_type": "markdown",
      "source": [
        "**NOMOR 3**\n",
        "\n",
        "Budi tertarik untuk melamar pekerjaan pada liburan semester yang akan berlangsung selama 5 minggu. Gaji yang diberikan adalah gaji per jam. Total pajak yang harus budi bayarkan dari penghasilannya selama bekerja adalah 14%. Setelah membayar pajak, budi menghabiskan 10% dari pendapatan bersihnya untuk membeli baju dan aksesoris yang akan digunakan pada semester baru, dan 1% untuk membeli alat tulis. Setelah membeli baju, aksesoris dan alat tulis, Budi menggunakan 25% dari sisa uangnya untuk disedekahkan. Setiap Rp.1000 yang Budi sedekahkan 30% nya akan diserahkan kepada anak yatim, dan sisanya akan diserahkan ke kaum dhuafa.\n",
        "\n",
        "Buatlah sebuah program, dengan input:\n",
        "1. Gaji per jam yang anda inginkan\n",
        "2. Jumlah jam kerja yang akan dilakukan dalam 1 minggu\n",
        "\n",
        "Output dari program adalah sebagai berikut :\n",
        "1. Pendapatan Budi selama libur musim panas sebelum melakukan pembayaran pajak.\n",
        "2. Pendapatan Budi selama libur musim panas setelah melakukan pembayaran pajak.\n",
        "3. Jumlah uang yang akan Budi habiskan untuk membeli pakaian dan aksesoris.\n",
        "4. Jumlah uang yang akan Budi habiskan untuk membeli alat tulis.\n",
        "5. Jumlah uang yang akan Budi sedekahkan.\n",
        "6. Jumlah uang yang akan diterima anak yatim.\n",
        "7. Jumlah uang yang akan diterima kaum dhuafa.\n"
      ],
      "metadata": {
        "id": "DxUAaDkbklkm"
      }
    },
    {
      "cell_type": "code",
      "source": [
        "# Input\n",
        "gaji_per_jam = float(input(\"Masukkan gaji per jam: \"))\n",
        "jam_kerja_per_minggu = float(input(\"Masukkan jumlah jam kerja per minggu: \"))\n",
        "\n",
        "# Proses\n",
        "pendapatan_sebelum_pajak = gaji_per_jam * jam_kerja_per_minggu * 5\n",
        "pajak = pendapatan_sebelum_pajak * 0.14\n",
        "pendapatan_setelah_pajak = pendapatan_sebelum_pajak - pajak\n",
        "pakaian_dan_aksesoris = pendapatan_setelah_pajak * 0.1\n",
        "alat_tulis = pendapatan_setelah_pajak * 0.01\n",
        "sisa_uang = pendapatan_setelah_pajak - pakaian_dan_aksesoris - alat_tulis\n",
        "sedekah = sisa_uang * 0.25\n",
        "\n",
        "# Output\n",
        "print(\"\\nHasil perhitungan:\")\n",
        "print(\"1. Pendapatan Budi selama libur musim panas sebelum melakukan pembayaran pajak: Rp.\",\n",
        "      round(pendapatan_sebelum_pajak, 2))\n",
        "print(\"2. Pendapatan Budi selama libur musim panas setelah melakukan pembayaran pajak: Rp.\",\n",
        "      round(pendapatan_setelah_pajak, 2))\n",
        "print(\"3. Jumlah uang yang akan Budi habiskan untuk membeli pakaian dan aksesoris: Rp.\",\n",
        "      round(pakaian_dan_aksesoris, 2))\n",
        "print(\"4. Jumlah uang yang akan Budi habiskan untuk membeli alat tulis: Rp.\",\n",
        "      round(alat_tulis, 2))\n",
        "print(\"5. Jumlah uang yang akan Budi sedekahkan: Rp.\", round(sedekah, 2))\n",
        "\n",
        "anak_yatim = sedekah * 0.3\n",
        "kaum_dhuafa = sedekah * 0.7\n",
        "print(\"6. Jumlah uang yang akan diterima anak yatim: Rp.\", round(anak_yatim, 2))\n",
        "print(\"7. Jumlah uang yang akan diterima kaum dhuafa: Rp.\", round(kaum_dhuafa, 2))"
      ],
      "metadata": {
        "colab": {
          "base_uri": "https://localhost:8080/"
        },
        "id": "rsolgDV1koOq",
        "outputId": "e80f004b-cd79-425d-8af7-5bec2902b1f3"
      },
      "execution_count": 3,
      "outputs": [
        {
          "output_type": "stream",
          "name": "stdout",
          "text": [
            "Masukkan gaji per jam: 100000\n",
            "Masukkan jumlah jam kerja per minggu: 42\n",
            "\n",
            "Hasil perhitungan:\n",
            "1. Pendapatan Budi selama libur musim panas sebelum melakukan pembayaran pajak: Rp. 21000000.0\n",
            "2. Pendapatan Budi selama libur musim panas setelah melakukan pembayaran pajak: Rp. 18060000.0\n",
            "3. Jumlah uang yang akan Budi habiskan untuk membeli pakaian dan aksesoris: Rp. 1806000.0\n",
            "4. Jumlah uang yang akan Budi habiskan untuk membeli alat tulis: Rp. 180600.0\n",
            "5. Jumlah uang yang akan Budi sedekahkan: Rp. 4018350.0\n",
            "6. Jumlah uang yang akan diterima anak yatim: Rp. 1205505.0\n",
            "7. Jumlah uang yang akan diterima kaum dhuafa: Rp. 2812845.0\n"
          ]
        }
      ]
    }
  ]
}